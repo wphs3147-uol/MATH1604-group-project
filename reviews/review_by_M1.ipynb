{
 "cells": [
  {
   "cell_type": "markdown",
   "id": "2fc4f357",
   "metadata": {},
   "source": [
    "# Team member 1 - review - Jonas"
   ]
  },
  {
   "cell_type": "markdown",
   "id": "a8b2ae54",
   "metadata": {},
   "source": [
    "As team member 1, It was my job to parse and standardise the code. Specifically, I had to write two functions: \n",
    "\n",
    "**extract_answers_sequence(string file_path)** <br>\n",
    "• Input: Path (as a string) to a quiz answers text file. <br>\n",
    "• Output: List of 100 integers, where each number is 1, 2, 3, 4 (corresponding to the answer marked by the respondent), or 0 (if the question was not answered). <br>\n",
    "• Purpose: Parse the respondent’s answers into a structured sequence. <br>\n",
    "\n",
    "**write_answers_sequence(list answers, int n)** <br>\n",
    "• Input: List of 100 integers (answer sequence) and an integer n (respondent ID). <br>\n",
    "• Output: Writes the sequence to a text file named answers_list_respondent_n.txt. <br>\n",
    "• Purpose: Save the extracted sequence for further use. <br>\n",
    "\n"
   ]
  },
  {
   "cell_type": "markdown",
   "id": "1a46d5cb",
   "metadata": {},
   "source": [
    "**Function 1 - extract_answers_sequence(string file_path)**\n",
    "\n",
    "This function takes the file path of a respondents answer and returns a string of numbers in the range 0 to 4, where 1 to 4 respectively represent the first to the last checkbox, and the number returned is the checkbox tnat contains an 'x' from the respondent, and returns a 0 if question is left unanswered.\n",
    "\n",
    "It took a while to understand how to write this function, as I had not worked with pathing external .txt files into functions before, so it was interesting to learn how to integrate that into python. My mindset for this function was to first convert the text into only the lines with checkboxes, and iterate through the lines in chunks of 4 for each question.\n",
    "\n",
    "I initially struggled to reliably convert answers into strings, but after learning how to filter lines into just lines with [x] or [ ], it helped me to feel less overwhelmed. I also realised some respondents may have answered with a [X] rather than [x], so within the function I standardised the .txt file into all lowercase with the lower() function, which meant I could read through the file reliably. It was also interesting to learn how to iterate in chunks, which I had no experience with before. When the list was returned, I compared it with the .txt file to verify it was returning the correct answers from the respondent."
   ]
  },
  {
   "cell_type": "markdown",
   "id": "408c923a",
   "metadata": {},
   "source": [
    "**Function 2 - write_answers_sequence(list answers, int n)**\n",
    "\n",
    "This function takes a list of answers from the respondent in the form 0 to 4, as well as the respondent's id number, and saves a .txt file named answers_list_respondent_n.txt (containing the respective respondent's id) with the string of answers.\n",
    "\n",
    "This function was relatively more straightforward than extract_answers_sequence(string file_path), as it required no pathing as an input, and no data cleaning. Therefore I encountered limited problems when writing this code. I will note, however, that I was new to writing and saving files as an output to a function."
   ]
  },
  {
   "cell_type": "markdown",
   "id": "eda5330a",
   "metadata": {},
   "source": [
    "**GitHub workflow**\n",
    "\n",
    "When making changes, I was sure to include clear and concise messages, and communicated with my teamm when I had added my work."
   ]
  },
  {
   "cell_type": "markdown",
   "id": "545a596d",
   "metadata": {},
   "source": [
    "**Summary**\n",
    "\n",
    "In summary I have succcessfully written, tested and implemented my assigned functions, verified their reliability, and used version control to communicate with my team."
   ]
  }
 ],
 "metadata": {
  "language_info": {
   "name": "python"
  }
 },
 "nbformat": 4,
 "nbformat_minor": 5
}
