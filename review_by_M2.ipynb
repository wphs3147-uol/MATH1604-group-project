{
 "cells": [
  {
   "cell_type": "markdown",
   "id": "b1cb78d6",
   "metadata": {},
   "source": [
    "## Review by Team Member 2 - Data Preparation"
   ]
  },
  {
   "cell_type": "markdown",
   "id": "ea23c82a",
   "metadata": {},
   "source": [
    "### Function 1: download_answer_files()"
   ]
  },
  {
   "cell_type": "markdown",
   "id": "43fc3ff9",
   "metadata": {},
   "source": [
    "**Purpose**: download quiz respone files from a URL and saves them as 'answers_respondent_n.txt'\n"
   ]
  },
  {
   "cell_type": "markdown",
   "id": "0cfaadb9",
   "metadata": {},
   "source": [
    "**Testing**"
   ]
  }
 ],
 "metadata": {
  "kernelspec": {
   "display_name": "Python 3",
   "language": "python",
   "name": "python3"
  },
  "language_info": {
   "codemirror_mode": {
    "name": "ipython",
    "version": 3
   },
   "file_extension": ".py",
   "mimetype": "text/x-python",
   "name": "python",
   "nbconvert_exporter": "python",
   "pygments_lexer": "ipython3",
   "version": "3.12.1"
  }
 },
 "nbformat": 4,
 "nbformat_minor": 5
}
