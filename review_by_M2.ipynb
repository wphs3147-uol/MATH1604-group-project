{
 "cells": [
  {
   "cell_type": "markdown",
   "id": "b1cb78d6",
   "metadata": {},
   "source": [
    "## Review by Team Member 2 - Data Preparation"
   ]
  },
  {
   "cell_type": "markdown",
   "id": "56d92bbd",
   "metadata": {},
   "source": [
    "### Overview of Responsibilities "
   ]
  },
  {
   "cell_type": "markdown",
   "id": "0a1dad9b",
   "metadata": {},
   "source": [
    "As Team Member 2, I was responsible for the Download & Collation Module, specifically:\n",
    "\n",
    "- Implementing download_answer_files() to fetch and rename answer files from a cloud directory.\n",
    "\n",
    "- Implementing collate_answer_files() to combine all downloaded answers into a single structured text file.\n",
    "\n",
    "- Testing and verifying that the functions behave as expected.\n",
    "\n",
    "- Documenting my development and testing process in this review notebook.\n",
    "\n"
   ]
  },
  {
   "cell_type": "markdown",
   "id": "ea23c82a",
   "metadata": {},
   "source": [
    "### Function 1: download_answer_files()"
   ]
  },
  {
   "cell_type": "markdown",
   "id": "43fc3ff9",
   "metadata": {},
   "source": [
    "This function accepts:\n",
    "\n",
    "- A cloud_url pointing to files like a1.txt, a2.txt, etc.\n",
    "\n",
    "- A path_to_data_folder where renamed files will be saved.\n",
    "\n",
    "- A respondent_index controlling how many files to download (e.g., 40).\n",
    "\n",
    "- Each file is renamed from ax.txt to answers_respondent_x.txt and saved locally.#\n",
    "\n",
    "To test this function I had to temporarily modify the implementation to run a local file as we were given access to a ZIP folder:\n",
    "\n",
    "- Replacing the requests.get() line with a block that reads from a local folder (quiz_answers_named_a1_to_a25) containing test files named a1.txt to a25.txt. This allowed me to run and test the file renaming and saving logic without needing a real cloud URL. After confirming that files were correctly saved in the data/ folder with the correct names, I restored the original version of the function using requests.get() for cloud-based downloading.\n"
   ]
  },
  {
   "cell_type": "markdown",
   "id": "96111f38",
   "metadata": {},
   "source": [
    "### Function 2: collate_answer_files()"
   ]
  },
  {
   "cell_type": "markdown",
   "id": "ada7523f",
   "metadata": {},
   "source": [
    "This function takes:\n",
    "\n",
    "- A folder path (data/) with renamed individual respondent files.\n",
    "\n",
    "- It writes a single collated_answers.txt file in the output/ folder, separating respondents by (*)\n",
    "\n",
    "I manually verified that the output file includes all answer data, with respondent sections properly"
   ]
  },
  {
   "cell_type": "markdown",
   "id": "4e5df0cb",
   "metadata": {},
   "source": [
    "### Output Verification"
   ]
  },
  {
   "cell_type": "markdown",
   "id": "84eddbe8",
   "metadata": {},
   "source": [
    "After running both functions:\n",
    "\n",
    "- The data/ folder contained answers_respondent_1.txt to answers_respondent_25.txt\n",
    "\n",
    "- The output/ folder contained the required collated_answers.txt file format\n",
    "\n",
    "- This confirms the full data preparation pipeline is functioning.\n",
    "\n"
   ]
  },
  {
   "cell_type": "markdown",
   "id": "b43a9b45",
   "metadata": {},
   "source": [
    "### GitHub Workflow"
   ]
  },
  {
   "cell_type": "markdown",
   "id": "a0c93d19",
   "metadata": {},
   "source": [
    "- I committed my changes using clear, descriptive messages.\n",
    "\n",
    "- I used branches for development and merged after successful testing.\n",
    "\n"
   ]
  },
  {
   "cell_type": "markdown",
   "id": "eb4b2005",
   "metadata": {},
   "source": [
    "### Summary "
   ]
  },
  {
   "cell_type": "markdown",
   "id": "e89d0035",
   "metadata": {},
   "source": [
    "I have:\n",
    "\n",
    "- Fully implemented and tested both required functions.\n",
    "\n",
    "- Verified output matches the expected structure.\n",
    "\n",
    "- Used version control and documented all meaningful changes."
   ]
  }
 ],
 "metadata": {
  "kernelspec": {
   "display_name": "Python 3",
   "language": "python",
   "name": "python3"
  },
  "language_info": {
   "codemirror_mode": {
    "name": "ipython",
    "version": 3
   },
   "file_extension": ".py",
   "mimetype": "text/x-python",
   "name": "python",
   "nbconvert_exporter": "python",
   "pygments_lexer": "ipython3",
   "version": "3.12.1"
  }
 },
 "nbformat": 4,
 "nbformat_minor": 5
}
